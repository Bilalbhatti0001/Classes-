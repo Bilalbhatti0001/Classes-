{
 "cells": [
  {
   "cell_type": "code",
   "execution_count": null,
   "id": "f0e1d30d",
   "metadata": {},
   "outputs": [],
   "source": [
    "#9.Create a class Shape with a method to calculate area. Create subclasses Circle, Rectangle, and Triangle that inherit from Shape and implement their specific area calculations."
   ]
  },
  {
   "cell_type": "code",
   "execution_count": 7,
   "id": "9d516c35",
   "metadata": {},
   "outputs": [
    {
     "name": "stdout",
     "output_type": "stream",
     "text": [
      "Circle area: 78.53981633974483\n",
      "Rectangle area: 24\n",
      "Triangle area: 10.5\n"
     ]
    }
   ],
   "source": [
    "import math\n",
    "class Shape:\n",
    "    def area(self):\n",
    "        pass\n",
    "class Circle(Shape):\n",
    "    def __init__(self, radius):\n",
    "        self.radius = radius\n",
    "    def area(self):\n",
    "        return math.pi * (self.radius ** 2)\n",
    "class Rectangle(Shape):\n",
    "    def __init__(self, width, height):\n",
    "        self.width = width\n",
    "        self.height = height\n",
    "    def area(self):\n",
    "        return self.width * self.height\n",
    "class Triangle(Shape):\n",
    "    def __init__(self, base, height):\n",
    "        self.base = base\n",
    "        self.height = height\n",
    "    def area(self):\n",
    "        return 0.5 * self.base * self.height\n",
    "if __name__ == \"__main__\":\n",
    "    circle = Circle(5)\n",
    "    rectangle = Rectangle(4, 6)\n",
    "    triangle = Triangle(3, 7)\n",
    "    print(\"Circle area:\", circle.area())\n",
    "    print(\"Rectangle area:\", rectangle.area())\n",
    "    print(\"Triangle area:\", triangle.area())"
   ]
  },
  {
   "cell_type": "code",
   "execution_count": null,
   "id": "3ba6d225",
   "metadata": {},
   "outputs": [],
   "source": [
    "#10.Create a class Animal with attributes name and sound. Create subclasses Dog, Cat, and Cow that inherit from Animal and implement their specific sounds."
   ]
  },
  {
   "cell_type": "code",
   "execution_count": 12,
   "id": "b78e8ed5",
   "metadata": {},
   "outputs": [
    {
     "name": "stdout",
     "output_type": "stream",
     "text": [
      "Buddy says Woof!\n",
      "Whiskers says Meow!\n",
      "Bessie says Moo!\n"
     ]
    }
   ],
   "source": [
    "class Animal:\n",
    "    def __init__(self, name):\n",
    "        self.name = name\n",
    "    def make_sound(self):\n",
    "        pass  \n",
    "class Dog(Animal):\n",
    "    def make_sound(self):\n",
    "        return f\"{self.name} says Woof!\"\n",
    "class Cat(Animal):\n",
    "    def make_sound(self):\n",
    "        return f\"{self.name} says Meow!\"\n",
    "class Cow(Animal):\n",
    "    def make_sound(self):\n",
    "        return f\"{self.name} says Moo!\"                         \n",
    "dog = Dog(\"Buddy\")\n",
    "cat = Cat(\"Whiskers\")\n",
    "cow = Cow(\"Bessie\")\n",
    "print(dog.make_sound())  \n",
    "print(cat.make_sound())  \n",
    "print(cow.make_sound()) \n",
    "        "
   ]
  },
  {
   "cell_type": "code",
   "execution_count": null,
   "id": "97237540",
   "metadata": {},
   "outputs": [],
   "source": []
  }
 ],
 "metadata": {
  "kernelspec": {
   "display_name": "Python 3 (ipykernel)",
   "language": "python",
   "name": "python3"
  },
  "language_info": {
   "codemirror_mode": {
    "name": "ipython",
    "version": 3
   },
   "file_extension": ".py",
   "mimetype": "text/x-python",
   "name": "python",
   "nbconvert_exporter": "python",
   "pygments_lexer": "ipython3",
   "version": "3.11.5"
  }
 },
 "nbformat": 4,
 "nbformat_minor": 5
}
